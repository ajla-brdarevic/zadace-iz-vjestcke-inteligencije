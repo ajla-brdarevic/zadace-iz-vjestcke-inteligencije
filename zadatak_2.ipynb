{
 "cells": [
  {
   "cell_type": "markdown",
   "metadata": {},
   "source": [
    "# Drugi zadatak\n",
    "Suad je u dilemi. Treba da stigne do fakulteta na vježbe iz \"Vještačke inteligencije\", ali kako je saobraćaj u Sarajevu nepredvidiv, često mu se dogodi da kasni. Kako bi izbjegao kašnjenje, pokušaće da koristi znanje iz prošlosti da predvidi da li treba da krene ranije nego obično. Napisao je situacije izprošlosti prikazane na slici 2.\n",
    "\n",
    "<img src=\"slika2.png\" alt=\"Slika 2\" width=\"300\"/>"
   ]
  },
  {
   "cell_type": "markdown",
   "metadata": {},
   "source": [
    "## Import potrebnih biblioteka\n",
    "Biblioteka `pandas`, koja je potrebna za rad sa strukturama podataka, kao što su DataFrame objekti, koji će biti korišteni za pohranu i analizu podataka."
   ]
  },
  {
   "cell_type": "code",
   "execution_count": 4,
   "metadata": {},
   "outputs": [],
   "source": [
    "import pandas as pd"
   ]
  },
  {
   "cell_type": "markdown",
   "metadata": {},
   "source": [
    "## Unos podataka i kreniranje DataFrame-a\n",
    "Unos podataka u obliku rječnika (dict). Svaka ključna vrijednost (kao što je 'rb', 'dan_u_sedmici', itd.) predstavlja jedan atribut koji će se analizirati, dok su vrijednosti povezane sa tim atributima.\n",
    "Podaci unutar rječnika sada će biti korišteni za kreiranje DataFrame objekta pomoću pd.DataFrame(). Ovaj objekat omogućava jednostavnije manipulacije i analize podataka."
   ]
  },
  {
   "cell_type": "code",
   "execution_count": 5,
   "metadata": {},
   "outputs": [],
   "source": [
    "podaci = {\n",
    "    'rb': list(range(1, 18)),\n",
    "    'dan_u_sedmici': ['ponedjeljak', 'petak', 'utorak', 'četvrtak', 'subota', 'nedjelja', 'srijeda',\n",
    "                      'ponedjeljak', 'petak', 'nedjelja', 'utorak', 'subota', 'četvrtak', 'ponedjeljak',\n",
    "                      'petak', 'srijeda', 'petak'],\n",
    "    'vremenski_uslovi': ['vedro', 'padavine', 'padavine', 'vedro', 'vedro', 'padavine', 'vedro',\n",
    "                         'vedro', 'padavine', 'padavine', 'padavine', 'vedro', 'vedro', 'vedro',\n",
    "                         'vedro', 'padavine', 'vedro'],\n",
    "    'doba_dana': ['prijepodne', 'uveče', 'popodne', 'popodne', 'prijepodne', 'popodne', 'uveče',\n",
    "                  'prijepodne', 'popodne', 'uveče', 'prijepodne', 'popodne', 'uveče', 'prijepodne',\n",
    "                  'popodne', 'popodne', 'popodne'],\n",
    "    'guzva': ['nema', 'uobičajeno', 'velika', 'nema', 'uobičajeno', 'velika', 'nema', 'uobičajeno',\n",
    "              'velika', 'nema', 'uobičajeno', 'velika', 'nema', 'uobičajeno', 'velika', 'velika', 'velika']\n",
    "}\n",
    "\n",
    "# Kreiranje DataFrame-a\n",
    "df = pd.DataFrame(podaci)"
   ]
  },
  {
   "cell_type": "markdown",
   "metadata": {},
   "source": [
    "## Analiza podataka\n",
    "### Distribucija gužvi po vremenskim uslovima\n",
    "Prvo se analizira distribuciju gužvi u zavisnosti od vremenskih uslova. Za to se koristi funkciju groupby(), koja grupira podatke po različitim kategorijama, i funkcija value_counts(), koja broji pojavljivanja određenih vrijednosti u grupama."
   ]
  },
  {
   "cell_type": "code",
   "execution_count": 6,
   "metadata": {},
   "outputs": [
    {
     "name": "stdout",
     "output_type": "stream",
     "text": [
      "Distribucija gužvi po vremenskim uslovima:\n",
      "vremenski_uslovi  guzva     \n",
      "padavine          velika        4\n",
      "                  uobičajeno    2\n",
      "                  nema          1\n",
      "vedro             nema          4\n",
      "                  uobičajeno    3\n",
      "                  velika        3\n",
      "Name: count, dtype: int64\n"
     ]
    }
   ],
   "source": [
    "print(\"Distribucija gužvi po vremenskim uslovima:\")\n",
    "print(df.groupby('vremenski_uslovi')['guzva'].value_counts())"
   ]
  },
  {
   "cell_type": "markdown",
   "metadata": {},
   "source": [
    "### Distribucija gužvi po danima u sedmici\n",
    "Slična analiza se radi i za dane u sedmici, kako bismo vidjeli kako gužva varira od dana do dana."
   ]
  },
  {
   "cell_type": "code",
   "execution_count": 7,
   "metadata": {},
   "outputs": [
    {
     "name": "stdout",
     "output_type": "stream",
     "text": [
      "\n",
      "Distribucija gužvi po danima u sedmici:\n",
      "dan_u_sedmici  guzva     \n",
      "nedjelja       nema          1\n",
      "               velika        1\n",
      "petak          velika        3\n",
      "               uobičajeno    1\n",
      "ponedjeljak    uobičajeno    2\n",
      "               nema          1\n",
      "srijeda        nema          1\n",
      "               velika        1\n",
      "subota         uobičajeno    1\n",
      "               velika        1\n",
      "utorak         uobičajeno    1\n",
      "               velika        1\n",
      "četvrtak       nema          2\n",
      "Name: count, dtype: int64\n"
     ]
    }
   ],
   "source": [
    "print(\"\\nDistribucija gužvi po danima u sedmici:\")\n",
    "print(df.groupby('dan_u_sedmici')['guzva'].value_counts())"
   ]
  },
  {
   "cell_type": "markdown",
   "metadata": {},
   "source": [
    "### Distribucija gužvi po dobu dana\n",
    "U ovom dijelu se analizira kako gužva zavisi od doba dana, koristeći opet funkciju groupby() i value_counts()."
   ]
  },
  {
   "cell_type": "code",
   "execution_count": 8,
   "metadata": {},
   "outputs": [
    {
     "name": "stdout",
     "output_type": "stream",
     "text": [
      "\n",
      "Distribucija gužvi po doba dana:\n",
      "doba_dana   guzva     \n",
      "popodne     velika        7\n",
      "            nema          1\n",
      "prijepodne  uobičajeno    4\n",
      "            nema          1\n",
      "uveče       nema          3\n",
      "            uobičajeno    1\n",
      "Name: count, dtype: int64\n"
     ]
    }
   ],
   "source": [
    "print(\"\\nDistribucija gužvi po doba dana:\")\n",
    "print(df.groupby('doba_dana')['guzva'].value_counts())"
   ]
  },
  {
   "cell_type": "markdown",
   "metadata": {},
   "source": [
    "## Donošenje odluke za Suada\n",
    "Analizira specifične situacije: Ponedjeljak, vedro vrijeme, prijepodne. Na temelju podataka o gužvi u toj situaciji, donijet će se preporuka za Suadu – da li treba krenuti ranije ili može krenuti uobičajeno.\n",
    "\n",
    "### Definisanje situacije\n",
    "Prvo se definiše situaciju koju želimo analizirati. To uključuje dan u sedmici, vremenske uslove i doba dana."
   ]
  },
  {
   "cell_type": "code",
   "execution_count": 9,
   "metadata": {},
   "outputs": [],
   "source": [
    "situacija = {\n",
    "    \"dan_u_sedmici\": \"ponedjeljak\",\n",
    "    \"vremenski_uslovi\": \"vedro\",\n",
    "    \"doba_dana\": \"prijepodne\"\n",
    "}"
   ]
  },
  {
   "cell_type": "markdown",
   "metadata": {},
   "source": [
    "### Filtriranje podataka\n",
    "Nakon što se definiše situacija, filtrira se DataFrame kako bismo dobili samo one podatke koji odgovaraju ovoj situaciji."
   ]
  },
  {
   "cell_type": "code",
   "execution_count": 10,
   "metadata": {},
   "outputs": [],
   "source": [
    "filtrirani_podaci = df[\n",
    "    (df['dan_u_sedmici'] == situacija['dan_u_sedmici']) &\n",
    "    (df['vremenski_uslovi'] == situacija['vremenski_uslovi']) &\n",
    "    (df['doba_dana'] == situacija['doba_dana'])\n",
    "]"
   ]
  },
  {
   "cell_type": "markdown",
   "metadata": {},
   "source": [
    "### Analiza i preporuka\n",
    "Na temelju filtriranih podataka, donosi se preporuku za Suadu. Ako je najčešća gužva u toj situaciji 'uobičajeno' ili 'velika', preporuka je da Suada krene ranije."
   ]
  },
  {
   "cell_type": "code",
   "execution_count": 11,
   "metadata": {},
   "outputs": [
    {
     "name": "stdout",
     "output_type": "stream",
     "text": [
      "\n",
      "Situacija za Suada (ponedjeljak, vedro, prijepodne):\n",
      "guzva\n",
      "uobičajeno    2\n",
      "nema          1\n",
      "Name: count, dtype: int64\n",
      "Preporuka: Suade, kreni ranije!\n"
     ]
    }
   ],
   "source": [
    "print(\"\\nSituacija za Suada (ponedjeljak, vedro, prijepodne):\")\n",
    "if not filtrirani_podaci.empty:\n",
    "    print(filtrirani_podaci['guzva'].value_counts())\n",
    "    najcesca_guzva = filtrirani_podaci['guzva'].mode()[0]\n",
    "    if najcesca_guzva in ['uobičajeno', 'velika']:\n",
    "        print(\"Preporuka: Suade, kreni ranije!\")\n",
    "    else:\n",
    "        print(\"Preporuka: Suade, možeš krenuti uobičajeno.\")\n",
    "else:\n",
    "    print(\"Nema podataka za ovu situaciju. Suade, bolje kreni ranije da ne bi rizikovao!\")"
   ]
  }
 ],
 "metadata": {
  "kernelspec": {
   "display_name": "Python 3",
   "language": "python",
   "name": "python3"
  },
  "language_info": {
   "codemirror_mode": {
    "name": "ipython",
    "version": 3
   },
   "file_extension": ".py",
   "mimetype": "text/x-python",
   "name": "python",
   "nbconvert_exporter": "python",
   "pygments_lexer": "ipython3",
   "version": "3.12.0"
  }
 },
 "nbformat": 4,
 "nbformat_minor": 2
}

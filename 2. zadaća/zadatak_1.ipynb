{
 "cells": [
  {
   "cell_type": "markdown",
   "metadata": {},
   "source": [
    "# Prvi zadatak\n",
    "Svjetska Banka želi da donese odluku o tome da li je novopredloženi projekat isplativ za realizaciju:\n",
    "- Na osnovu slučajeva iz prošlosti prikazani na slici 1 treba napraviti klasifikacioni model koristeći algoritam Naivnog Bajesa.\n",
    "- Istu tabelu iskoristiti i primjeniti stablo odlučivanja.\n",
    "\n",
    "U oba slučaja provjeriti koja će se donijeti odluka.\n",
    "\n",
    "<img src=\"slika1.png\" alt=\"Slika 1\" width=\"300\"/>"
   ]
  },
  {
   "cell_type": "markdown",
   "metadata": {},
   "source": [
    "## Import potrebnih biblioteka\n",
    "\n",
    "Importovanje potrebnih biblioteka koje će biti potrebne za obradu podataka i implementaciju modela."
   ]
  },
  {
   "cell_type": "code",
   "execution_count": 3,
   "metadata": {},
   "outputs": [],
   "source": [
    "import pandas as pd\n",
    "from sklearn.model_selection import train_test_split\n",
    "from sklearn.naive_bayes import CategoricalNB\n",
    "from sklearn.tree import DecisionTreeClassifier, export_text\n",
    "from sklearn.metrics import accuracy_score"
   ]
  },
  {
   "cell_type": "markdown",
   "metadata": {},
   "source": [
    "## Organizacija podataka\n",
    "Definišu se ulazni podaci kao Python dictionary i konvertuju se u pandas DataFrame.\n",
    "\n",
    "1. Definicija podataka:\n",
    "Podaci se nalaze u rječniku (data), gdje su ključevi nazivi kolona, a vrijednosti su liste koje predstavljaju podatke u tim kolonama. Svaka lista sadrži niz vrijednosti, a broj elemenata u svakoj listi mora biti isti, jer svaka lista predstavlja jednu kolonu u DataFrame-u.\n",
    "\n",
    "2. Kreiranje DataFrame-a:\n",
    "Koristi pandas.DataFrame() funkciju da kreira DataFrame objekat. DataFrame je tabularna struktura podataka u Pandas-u.\n",
    "\n",
    "Kada se pozove pd.DataFrame(data), Pandas će:\n",
    "- Koristiti ključeve rječnika kao nazive kolona (na primjer: \"Ukupan rizik\", \"Vremenski horizont\", itd.).\n",
    "- Svaku od lista u rječniku pretvoriti u redove podataka za svaku kolonu.\n"
   ]
  },
  {
   "cell_type": "code",
   "execution_count": 4,
   "metadata": {},
   "outputs": [],
   "source": [
    "data = {\n",
    "    \"Ukupan rizik\": [\"nizak\", \"visok\", \"nizak\", \"visok\", \"nizak\", \"visok\", \"nizak\", \"visok\", \"nizak\", \"visok\", \"nizak\", \"visok\", \"nizak\", \"visok\", \"nizak\"],\n",
    "    \"Vremenski horizont\": [\"kratak rok\", \"srednji rok\", \"dugi rok\", \"kratak rok\", \"srednji rok\", \"dugi rok\", \"kratak rok\", \"srednji rok\", \"dugi rok\", \"kratki rok\", \"srednji rok\", \"dugi rok\", \"kratki rok\", \"srednji rok\", \"dugi rok\"],\n",
    "    \"Ukupni troskovi\": [\"visoki\", \"niski\", \"visoki\", \"niski\", \"visoki\", \"niski\", \"visoki\", \"niski\", \"visoki\", \"niski\", \"visoki\", \"niski\", \"visoki\", \"niski\", \"visoki\"],\n",
    "    \"Drustvena korist\": [\"visoka\", \"niska\", \"visoka\", \"visoka\", \"niska\", \"niska\", \"visoka\", \"visoka\", \"visoka\", \"niska\", \"visoka\", \"niska\", \"visoka\", \"niska\", \"visoka\"],\n",
    "    \"Realizovati?\": [\"ne\", \"ne\", \"da\", \"da\", \"ne\", \"ne\", \"da\", \"da\", \"ne\", \"ne\", \"da\", \"da\", \"ne\", \"ne\", \"da\"]\n",
    "}\n",
    "\n",
    "df = pd.DataFrame(data)"
   ]
  },
  {
   "cell_type": "markdown",
   "metadata": {},
   "source": [
    "## Pretvaranje kategorijskih podataka u numeričke vrijednosti\n",
    "Kako bi modeli mogli raditi sa ovim podacima, kategorijske varijable se pretvaraju u numeričke vrijednosti.\n",
    "\n",
    "1. df.columns:\n",
    "df.columns je atribut Pandas DataFrame objekta koji sadrži listu svih naziva kolona u DataFrame-u. U ovom slučaju, ovo će vratiti listu naziva svih kolona u DataFrame-u df.\n",
    "2. Petlja for column in df.columns:\n",
    "Ova petlja prolazi kroz svaku kolonu u DataFrame-u. Za svaku kolonu, izvršava se kod unutar petlje. Na primjer, u prvom prolazu, column će biti \"Ukupan rizik\", zatim \"Vremenski horizont\", itd.\n",
    "3. df[column]:\n",
    "df[column] pristupa podacima u trenutnoj koloni. Dakle, u prvom prolazu, to je cijela kolona \"Ukupan rizik\".\n",
    "4. astype(\"category\"):\n",
    "Ova funkcija u Pandas-u koristi se za pretvaranje podataka u kategorijski tip podataka (category). Kategorijski podaci su varijable koje imaju ograničen broj mogućih vrijednosti. U ovom slučaju, na primjer, kolona \"Ukupan rizik\" može imati vrijednosti \"nizak\" i \"visok\", koje su kategorije. Pretvaranje u category tip omogućava brže manipuliranje podacima, jer Pandas zna da su vrijednosti ograničene i specifične za tu kolonu.\n",
    "5. cat.codes:\n",
    "cat.codes je atribut koji se koristi za pretvaranje kategorijskih vrijednosti u numeričke kodove. Svakoj kategoriji se dodjeljuje jedinstveni broj. Na primjer: \"nizak\" može biti 0, \"visok\" može biti 1. Ovaj proces omogućava da kategorijski podaci (npr. tekstualne vrijednosti) budu pretvoreni u numeričke kodove koje mogu koristiti algoritmi mašinskog učenja.\n",
    "6. df[column] = ...:\n",
    "Ovdje, rezultati pretvaranja kategorijskih podataka u numeričke (putem cat.codes) zamjenjuju originalne podatke u DataFrame-u. Na primjer, ako je kolona \"Ukupan rizik\" imala vrijednosti [\"nizak\", \"visok\", \"nizak\"], nakon pretvorbe, ta kolona će imati vrijednosti [0, 1, 0]."
   ]
  },
  {
   "cell_type": "code",
   "execution_count": 5,
   "metadata": {},
   "outputs": [],
   "source": [
    "for column in df.columns:\n",
    "    df[column] = df[column].astype(\"category\").cat.codes"
   ]
  },
  {
   "cell_type": "markdown",
   "metadata": {},
   "source": [
    "## Odvajanje ulaznih i izlaznih varijabli\n",
    "Ulazne karakteristike (X) se izdvajaju od ciljne varijable (y).\n",
    "\n",
    "Ovaj kod služi za odvajanje ulaznih (karakteristika) i izlaznih (ciljnih) varijabli, što je osnovni korak u pripremi podataka za modele mašinskog učenja. \n",
    "\n",
    "1. X = df.drop(columns=[\"Realizovati?\"])\n",
    "   df.drop(columns=[\"Realizovati?\"]):\n",
    "Funkcija drop u Pandas-u koristi se za uklanjanje određenih kolona (ili redova) iz DataFrame-a. Ovdje se specificira columns=[\"Realizovati?\"], što znači da želimo ukloniti kolonu \"Realizovati?\" iz DataFrame-a df. Nakon što je kolona \"Realizovati?\" uklonjena, preostale kolone (kao što su \"Ukupan rizik\", \"Vremenski horizont\", itd.) postaju ulazne karakteristike za naš model. \n",
    "Varijabla X će sadržavati sve kolone iz DataFrame-a df osim kolone \"Realizovati?\", jer ova kolona predstavlja ciljnu varijablu koju želimo predvidjeti, a ne ulazne karakteristike.\n",
    "\n",
    "2. y = df[\"Realizovati?\"]\n",
    "   df[\"Realizovati?\"]:\n",
    "Ovdje se selektuje samo kolona \"Realizovati?\" iz DataFrame-a df, koja predstavlja izlaznu varijablu (ciljnu varijablu). Ova kolona sadrži informacije koje želimo da model nauči predviđati (u ovom slučaju, hoće li nešto biti \"realizovano\" ili ne, tj. odgovor \"da\" ili \"ne\").\n",
    "\n",
    "Varijabla y će biti DataFrame (ili Pandas Series) koji sadrži samo vrijednosti iz kolone \"Realizovati?\", koje će služiti kao odgovori koje model pokušava predvidjeti na osnovu ulaznih karakteristika.\n",
    "\n",
    "3. Odvajanje ulaznih i izlaznih varijabli\n",
    "Ulazne varijable (X): Ove varijable su karakteristike koje model koristi za donošenje predikcija. U ovom slučaju, to su sve kolone osim \"Realizovati?\" i predstavljaju informacije koje model koristi da nauči obrasce u podacima.\n",
    "\n",
    "Izlazna varijabla (y): Ovo je ciljni odgovor koji želimo da naš model predviđa. U ovom slučaju, to je kolona \"Realizovati?\", koja sadrži vrijednosti \"da\" ili \"ne\" i označava hoće li nešto biti realizovano ili ne."
   ]
  },
  {
   "cell_type": "code",
   "execution_count": 6,
   "metadata": {},
   "outputs": [],
   "source": [
    "X = df.drop(columns=[\"Realizovati?\"])\n",
    "y = df[\"Realizovati?\"]"
   ]
  },
  {
   "cell_type": "markdown",
   "metadata": {},
   "source": [
    "## Podjela podataka na trening i test set\n",
    "Podaci se dijele na skup za obuku i skup za testiranje pomoću funkcije train_test_split."
   ]
  },
  {
   "cell_type": "code",
   "execution_count": 7,
   "metadata": {},
   "outputs": [],
   "source": [
    "X_train, X_test, y_train, y_test = train_test_split(X, y, test_size=0.2, random_state=42)"
   ]
  },
  {
   "cell_type": "markdown",
   "metadata": {},
   "source": [
    "## Implementacija Naivnog Bayesa\n",
    "Treniranje modela Naivnog Bayesa i generiramo predikcije.\n",
    "\n",
    "1. nb_model = CategoricalNB()\n",
    "Ovdje se kreira instanca Naivnog Bayesovog - klasifikatora za kategorizirane podatke.\n",
    "CategoricalNB je specifična varijanta Naivnog Bayesovog algoritma koja je optimizirana za kategorizirane (diskretne) podatke.  Korištenje CategoricalNB je prikladno kada su ulazne karakteristike (u ovom slučaju, varijable u X_train) kategorizirane, a ne kontinuirane.\n",
    "\n",
    "2. nb_model.fit(X_train, y_train)\n",
    "Ova linija trenira (fituje) model koristeći trening skup podataka.\n",
    "X_train predstavlja ulazne podatke, tj. karakteristike koje model koristi za predviđanje (u ovom slučaju to su varijable kao što su \"Ukupan rizik\", \"Vremenski horizont\", itd.).\n",
    "y_train predstavlja ciljne varijable koje želimo da model predviđa (u ovom slučaju, \"Realizovati?\").\n",
    "Funkcija fit koristi ove podatke za učenje modela, odnosno za izračunavanje parametara modela koji najbolje odgovaraju trening podacima.\n",
    "\n",
    "3. nb_predictions = nb_model.predict(X_test)\n",
    "Ovdje se koristi trenirani model da napravimo predikcije na temelju testnog skupa podataka. X_test sadrži nove podatke koji nisu korišteni u fazi treniranja i na kojima model treba da donese predikcije. Testni skup podataka služi za evaluaciju sposobnosti modela da generalizira na nove, neviđene podatke. Funkcija predict generira predikcije za svaki red u testnom skupu podataka X_test, a predikcije se spremaju u varijablu nb_predictions.\n",
    "\n",
    "4. nb_accuracy = accuracy_score(y_test, nb_predictions)\n",
    "Ova linija koristi funkciju accuracy_score iz biblioteke sklearn.metrics kako bi izračunala tačnost modela.\n",
    "y_test sadrži stvarne ciljne vrijednosti (tj. stvarne odgovore iz testnog skupa podataka koji predstavljaju \"Realizovati?\").\n",
    "nb_predictions sadrži predikcije koje je model napravio za testne podatke.\n",
    "Funkcija accuracy_score upoređuje stvarne vrijednosti (y_test) i predikcije (nb_predictions) i izračunava postotak tačnih predikcija, što nam daje mjerenje tačnosti modela. Ovaj postotak predstavlja tačnost modela, odnosno koliko je predikcija ispravno klasificirano."
   ]
  },
  {
   "cell_type": "code",
   "execution_count": 8,
   "metadata": {},
   "outputs": [],
   "source": [
    "nb_model = CategoricalNB()\n",
    "nb_model.fit(X_train, y_train)\n",
    "nb_predictions = nb_model.predict(X_test)\n",
    "\n",
    "nb_accuracy = accuracy_score(y_test, nb_predictions)"
   ]
  },
  {
   "cell_type": "markdown",
   "metadata": {},
   "source": [
    "## Implementacija stabla odlučivanja\n",
    "Trenira se model stabla odlučivanja i generiraju predikcije.\n",
    "\n",
    "1. tree_model = DecisionTreeClassifier(random_state=42)\n",
    "Ovdje se kreira instanca DecisionTreeClassifier, što je model temeljen na algoritmu za odlučujuća stabla.\n",
    "random_state=42 se koristi kako bi se osigurala reproduktivnost rezultata. Korištenje fiksne vrijednosti za random seed osigurava da će podaci biti podijeljeni na isti način svaki put kad pokrenemo kod, čime se omogućuje dosljednost u rezultatima.\n",
    "\n",
    "2. tree_model.fit(X_train, y_train)\n",
    "Ovdje se trenira model na temelju trening podataka.\n",
    "X_train predstavlja ulazne karakteristike, odnosno varijable koje model koristi za donošenje odluka (npr. \"Ukupan rizik\", \"Vremenski horizont\", itd.).\n",
    "y_train je ciljna varijabla (odgovor koji želimo da model predviđa), u ovom slučaju \"Realizovati?\".\n",
    "Funkcija fit koristi ove podatke za \"učenje\" modela, odnosno za kreiranje stabla odluka koje najbolje objašnjava odnose između ulaznih karakteristika i ciljne varijable.\n",
    "\n",
    "3. tree_predictions = tree_model.predict(X_test)\n",
    "Nakon što je model treniran, koristi se funkcija predict da generiramo predikcije na temelju novih podataka, koji nisu bili uključeni u trening (testni podaci).\n",
    "X_test je testni skup podataka koji sadrži ulazne karakteristike za koje želimo dobiti predikcije. Ovaj skup podataka služi za evaluaciju modela.\n",
    "Funkcija predict koristi naučena pravila i odluke iz stabla da predvidi vrijednost ciljne varijable za svaki red u X_test. Predikcije će biti pohranjene u varijabli tree_predictions.\n",
    "\n",
    "4. tree_accuracy = accuracy_score(y_test, tree_predictions)\n",
    "Ovdje se koristi funkcija accuracy_score iz biblioteke sklearn.metrics da izračunamo tačnost modela.\n",
    "y_test predstavlja stvarne ciljne vrijednosti (stvarni odgovori na temelju kojih ćemo ocjenjivati tačnost modela).\n",
    "tree_predictions predstavlja predikcije koje je model napravio za testne podatke.\n",
    "Funkcija accuracy_score uspoređuje stvarne ciljeve (y_test) i predikcije (tree_predictions) i izračunava postotak tačnih predikcija, što daje tačnost modela. Tačnost označava koliko je model bio uspješan u pravilnom klasificiranju testnih podataka."
   ]
  },
  {
   "cell_type": "code",
   "execution_count": 9,
   "metadata": {},
   "outputs": [],
   "source": [
    "tree_model = DecisionTreeClassifier(random_state=42)\n",
    "tree_model.fit(X_train, y_train)\n",
    "tree_predictions = tree_model.predict(X_test)\n",
    "\n",
    "tree_accuracy = accuracy_score(y_test, tree_predictions)"
   ]
  },
  {
   "cell_type": "markdown",
   "metadata": {},
   "source": [
    "## Prikaz pravila stabla odlučivanja\n",
    "Izvodimo pravila generisana stablom odlučivanja.\n",
    "\n",
    "- export_text(tree_model, feature_names=list(X.columns))\n",
    "- tree_model: Ovo je već trenirani model za odlučujuće stablo (DecisionTreeClassifier), koji sadrži sve informacije o strukturi stabla i pravilima donošenja odluka.\n",
    "- X.columns: Ovo je lista imena svih ulaznih karakteristika (atributa) u trening skupu podataka. Na primjer, to mogu biti imena kao što su \"Ukupan rizik\", \"Vremenski horizont\", itd.\n",
    "- list(X.columns): Funkcija list() pretvara imena kolona u listu koja se zatim prosljeđuje funkciji export_text. To omogućava da se za svaku karakteristiku prikaže njeno ime u tekstualnom prikazu pravila stabla.\n",
    "- export_text funkcija prikazuje odluke koje je model donio u obliku razumljivog teksta. Pravila stabla su predstavljena tako da možete vidjeti kako su ulazne karakteristike korištene za donošenje odluka i kako se prelazi od korijena do lišća stabla."
   ]
  },
  {
   "cell_type": "code",
   "execution_count": 10,
   "metadata": {},
   "outputs": [],
   "source": [
    "tree_rules = export_text(tree_model, feature_names=list(X.columns))"
   ]
  },
  {
   "cell_type": "markdown",
   "metadata": {},
   "source": [
    "## Rezultati\n",
    "Prikazuje tačnost oba modela i pravila stabla odlučivanja."
   ]
  },
  {
   "cell_type": "code",
   "execution_count": 11,
   "metadata": {},
   "outputs": [
    {
     "name": "stdout",
     "output_type": "stream",
     "text": [
      "\n",
      "----------------------------------\n",
      "Rezultati klasifikacije:\n",
      "\n",
      "Naivni Bayes tačnost: 0.33\n",
      "Stablo odlučivanja tačnost: 0.33\n",
      "\n",
      "----------------------------------\n",
      "Pravila stabla odlučivanja:\n",
      "|--- Drustvena korist <= 0.50\n",
      "|   |--- class: 1\n",
      "|--- Drustvena korist >  0.50\n",
      "|   |--- Ukupan rizik <= 0.50\n",
      "|   |   |--- Vremenski horizont <= 2.50\n",
      "|   |   |   |--- Vremenski horizont <= 1.50\n",
      "|   |   |   |   |--- Vremenski horizont <= 0.50\n",
      "|   |   |   |   |   |--- class: 0\n",
      "|   |   |   |   |--- Vremenski horizont >  0.50\n",
      "|   |   |   |   |   |--- class: 0\n",
      "|   |   |   |--- Vremenski horizont >  1.50\n",
      "|   |   |   |   |--- class: 1\n",
      "|   |   |--- Vremenski horizont >  2.50\n",
      "|   |   |   |--- class: 0\n",
      "|   |--- Ukupan rizik >  0.50\n",
      "|   |   |--- class: 0\n",
      "\n",
      "----------------------------------\n"
     ]
    }
   ],
   "source": [
    "print(\"\\n----------------------------------\")\n",
    "print(\"Rezultati klasifikacije:\\n\")\n",
    "print(f\"Naivni Bayes tačnost: {nb_accuracy:.2f}\")\n",
    "print(f\"Stablo odlučivanja tačnost: {tree_accuracy:.2f}\")\n",
    "print(\"\\n----------------------------------\")\n",
    "print(\"Pravila stabla odlučivanja:\")\n",
    "print(tree_rules)\n",
    "print(\"----------------------------------\")"
   ]
  }
 ],
 "metadata": {
  "kernelspec": {
   "display_name": "Python 3",
   "language": "python",
   "name": "python3"
  },
  "language_info": {
   "codemirror_mode": {
    "name": "ipython",
    "version": 3
   },
   "file_extension": ".py",
   "mimetype": "text/x-python",
   "name": "python",
   "nbconvert_exporter": "python",
   "pygments_lexer": "ipython3",
   "version": "3.12.0"
  }
 },
 "nbformat": 4,
 "nbformat_minor": 2
}
